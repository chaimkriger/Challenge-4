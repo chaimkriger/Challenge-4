{
 "cells": [
  {
   "cell_type": "code",
   "execution_count": 9,
   "id": "22c9468c-a319-4fa0-be36-be5d3ac1fa9f",
   "metadata": {},
   "outputs": [],
   "source": [
    "x = []"
   ]
  },
  {
   "cell_type": "code",
   "execution_count": 15,
   "id": "37e7cff9-90fa-4c92-9cd2-2dd15baa5d19",
   "metadata": {},
   "outputs": [],
   "source": [
    "x.extend([1, 2])"
   ]
  },
  {
   "cell_type": "code",
   "execution_count": 16,
   "id": "e6118905-5ece-42ab-a9b0-5698175d0110",
   "metadata": {},
   "outputs": [
    {
     "data": {
      "text/plain": [
       "[1, 1, 2]"
      ]
     },
     "execution_count": 16,
     "metadata": {},
     "output_type": "execute_result"
    }
   ],
   "source": [
    "x"
   ]
  },
  {
   "cell_type": "code",
   "execution_count": null,
   "id": "1021ba75-66a5-40cd-a77c-8e84040ee972",
   "metadata": {},
   "outputs": [],
   "source": []
  }
 ],
 "metadata": {
  "kernelspec": {
   "display_name": "Python 3",
   "language": "python",
   "name": "python3"
  },
  "language_info": {
   "codemirror_mode": {
    "name": "ipython",
    "version": 3
   },
   "file_extension": ".py",
   "mimetype": "text/x-python",
   "name": "python",
   "nbconvert_exporter": "python",
   "pygments_lexer": "ipython3",
   "version": "3.7.10"
  }
 },
 "nbformat": 4,
 "nbformat_minor": 5
}
