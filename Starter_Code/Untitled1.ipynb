{
 "cells": [
  {
   "cell_type": "code",
   "execution_count": 4,
   "id": "32a75ba8-9067-46df-931d-e76f47aed46e",
   "metadata": {},
   "outputs": [],
   "source": [
    "import pandas as pd\n",
    "import requests\n",
    "import json"
   ]
  },
  {
   "cell_type": "code",
   "execution_count": 5,
   "id": "a9db4ad2-2b84-4bb9-99d5-1f0e12e79e78",
   "metadata": {},
   "outputs": [
    {
     "name": "stdout",
     "output_type": "stream",
     "text": [
      "{\n",
      "    \"data\": {\n",
      "        \"52\": {\n",
      "            \"circulating_supply\": 46805773456,\n",
      "            \"id\": 52,\n",
      "            \"last_updated\": 1633880903,\n",
      "            \"max_supply\": 100000000000,\n",
      "            \"name\": \"XRP\",\n",
      "            \"quotes\": {\n",
      "                \"USD\": {\n",
      "                    \"market_cap\": 55848481194,\n",
      "                    \"percent_change_1h\": -0.0665615070608766,\n",
      "                    \"percent_change_24h\": 3.76902125844951,\n",
      "                    \"percent_change_7d\": 14.1306458844017,\n",
      "                    \"percentage_change_1h\": -0.0665615070608766,\n",
      "                    \"percentage_change_24h\": 3.76902125844951,\n",
      "                    \"percentage_change_7d\": 14.1306458844017,\n",
      "                    \"price\": 1.19,\n",
      "                    \"volume_24h\": 6355263749\n",
      "                }\n",
      "            },\n",
      "            \"rank\": 6,\n",
      "            \"symbol\": \"XRP\",\n",
      "            \"total_supply\": 46805773456,\n",
      "            \"website_slug\": \"ripple\"\n",
      "        }\n",
      "    },\n",
      "    \"metadata\": {\n",
      "        \"error\": null,\n",
      "        \"num_cryptocurrencies\": 3105,\n",
      "        \"timestamp\": 1633880903\n",
      "    }\n",
      "}\n"
     ]
    }
   ],
   "source": [
    "# Set the Ripple endpoint\n",
    "xrp_url = \"https://api.alternative.me/v2/ticker/Ripple/\"\n",
    "\n",
    "# Fetch the current Ripple price\n",
    "response = requests.get(xrp_url).json()\n",
    "\n",
    "# Display response data\n",
    "print(json.dumps(response, indent=4, sort_keys=True))"
   ]
  },
  {
   "cell_type": "code",
   "execution_count": 12,
   "id": "2c075065-05c0-4932-a008-88711c793fb8",
   "metadata": {},
   "outputs": [
    {
     "name": "stdout",
     "output_type": "stream",
     "text": [
      "The symbol for Ripple is XRP\n",
      "The price for Ripple is $1.19\n"
     ]
    }
   ],
   "source": [
    "xrp_symbol = response['data']['52']['symbol']\n",
    "print(f\"The symbol for Ripple is {xrp_symbol}\")\n",
    "\n",
    "xrp_price = response['data']['52']['quotes']['USD']['price']\n",
    "print(f\"The price for Ripple is ${xrp_price}\")"
   ]
  },
  {
   "cell_type": "code",
   "execution_count": 9,
   "id": "26071a30-83c3-4fd7-aae9-3b77a82c1419",
   "metadata": {},
   "outputs": [
    {
     "name": "stdout",
     "output_type": "stream",
     "text": [
      "{\n",
      "    \"data\": {\n",
      "        \"2\": {\n",
      "            \"circulating_supply\": 68718508,\n",
      "            \"id\": 2,\n",
      "            \"last_updated\": 1633880889,\n",
      "            \"max_supply\": 84000000,\n",
      "            \"name\": \"Litecoin\",\n",
      "            \"quotes\": {\n",
      "                \"USD\": {\n",
      "                    \"market_cap\": 12436469913,\n",
      "                    \"percent_change_1h\": 0.0423492398853076,\n",
      "                    \"percent_change_24h\": 0.394565428326013,\n",
      "                    \"percent_change_7d\": 6.54346259770345,\n",
      "                    \"percentage_change_1h\": 0.0423492398853076,\n",
      "                    \"percentage_change_24h\": 0.394565428326013,\n",
      "                    \"percentage_change_7d\": 6.54346259770345,\n",
      "                    \"price\": 180.76,\n",
      "                    \"volume_24h\": 2872575035\n",
      "                }\n",
      "            },\n",
      "            \"rank\": 15,\n",
      "            \"symbol\": \"LTC\",\n",
      "            \"total_supply\": 68718508,\n",
      "            \"website_slug\": \"litecoin\"\n",
      "        }\n",
      "    },\n",
      "    \"metadata\": {\n",
      "        \"error\": null,\n",
      "        \"num_cryptocurrencies\": 3105,\n",
      "        \"timestamp\": 1633880889\n",
      "    }\n",
      "}\n"
     ]
    }
   ],
   "source": [
    "# Import the required libraries and dependencies\n",
    "import pandas as pd\n",
    "import requests\n",
    "import json\n",
    "\n",
    "# Set the Ripple endpoint\n",
    "ltc_url = \"https://api.alternative.me/v2/ticker/Litecoin/\"\n",
    "\n",
    "# Fetch the current Ripple price\n",
    "ltc_response = requests.get(ltc_url).json()\n",
    "\n",
    "# Display response data\n",
    "print(json.dumps(ltc_response, indent=4, sort_keys=True))\n"
   ]
  },
  {
   "cell_type": "code",
   "execution_count": 11,
   "id": "4573b9df-c2d6-44a4-8b99-fe68a993bd00",
   "metadata": {},
   "outputs": [
    {
     "name": "stdout",
     "output_type": "stream",
     "text": [
      "15\n"
     ]
    }
   ],
   "source": [
    "ltc_rank = ltc_response['data']['2']['rank']\n",
    "print(ltc_rank)"
   ]
  },
  {
   "cell_type": "code",
   "execution_count": null,
   "id": "285f2caa-374e-46f9-ba5e-6da4ca6a3e70",
   "metadata": {},
   "outputs": [],
   "source": []
  }
 ],
 "metadata": {
  "kernelspec": {
   "display_name": "Python (dev)",
   "language": "python",
   "name": "dev"
  },
  "language_info": {
   "codemirror_mode": {
    "name": "ipython",
    "version": 3
   },
   "file_extension": ".py",
   "mimetype": "text/x-python",
   "name": "python",
   "nbconvert_exporter": "python",
   "pygments_lexer": "ipython3",
   "version": "3.7.10"
  }
 },
 "nbformat": 4,
 "nbformat_minor": 5
}
